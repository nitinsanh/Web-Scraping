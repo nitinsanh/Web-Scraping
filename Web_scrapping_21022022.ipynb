{
 "cells": [
  {
   "cell_type": "code",
   "execution_count": 1,
   "metadata": {},
   "outputs": [],
   "source": [
    "#importing all reqired libraries\n",
    "import requests\n",
    "from bs4 import BeautifulSoup\n",
    "import pandas as pd\n",
    "from datetime import date\n",
    "from csv import writer"
   ]
  },
  {
   "cell_type": "code",
   "execution_count": 4,
   "metadata": {},
   "outputs": [
    {
     "name": "stdout",
     "output_type": "stream",
     "text": [
      "['Mumbai', 'Delhi', 'Bangalore', 'Hyderabad']\n",
      "['12,478,447', '11,034,555', '8,436,675', '6,809,970']\n",
      "['Monday', 'Monday', 'Monday', 'Monday']\n",
      "['9:03', '9:03', '9:03', '9:03']\n",
      "['pm', 'pm', 'pm', 'pm']\n",
      "[26.0, 19.0, 26.0, 24.0]\n",
      "['Smoke', 'Haze', 'Clear with periodic clouds', 'Clear with periodic clouds']\n",
      "['2022-02-21', '2022-02-21', '2022-02-21', '2022-02-21']\n"
     ]
    }
   ],
   "source": [
    "#Finding list of 4 cities from web_scrraping\n",
    "url = \"https://www.movingsolutions.in/blog/2020/01/30/list-of-major-cities-in-india\"\n",
    "html = requests.get(url).content\n",
    "soup = BeautifulSoup(html, \"html.parser\") \n",
    "temp_df = soup.find('div', attrs = {'class':'su-table su-table-responsive su-table-alternate'}).text\n",
    "split_df = temp_df.split('\\n')\n",
    "\n",
    "#defining list \n",
    "city_lst =[]\n",
    "population_lst =[]\n",
    "day_lst = []\n",
    "time_lst = []\n",
    "time_am_pm_lst =[]\n",
    "temp_lst = []\n",
    "outlook_lst = []\n",
    "date_lst = []\n",
    "j=0\n",
    "\n",
    "for i in range(11,35,6):    #structured as per web data (starting from 11th line) only 04 cities need to be capture\n",
    "    city = split_df[i]\n",
    "    population = split_df[i+1]\n",
    "    url = \"https://www.google.com/search?q=\"+\"weather\"+ city\n",
    "    html = requests.get(url).content\n",
    "    soup = BeautifulSoup(html, \"html.parser\") \n",
    "    temp = soup.find('div',attrs={'class':'BNeawe iBp4i AP7Wnd'}).text\n",
    "    temp1 = float(temp[:2])\n",
    "    other_data = soup.find('div',attrs = {'class':'BNeawe tAd8D AP7Wnd'}).text\n",
    "    split_data = other_data.split('\\n')\n",
    "    day_time = split_data[0]\n",
    "    outlook = split_data[1]\n",
    "    dt_split = day_time.split(' ')\n",
    "    day = dt_split[0]\n",
    "    time = dt_split[1]\n",
    "    time_am_pm = dt_split[2]\n",
    "    day_lst.insert(j,day)\n",
    "    time_lst.insert(j,time)\n",
    "    time_am_pm_lst.insert(j,time_am_pm)\n",
    "    temp_lst.insert(j,temp1)\n",
    "    outlook_lst.insert(j,outlook)\n",
    "    city_lst.insert(j, city)\n",
    "    population_lst.insert(j, population)\n",
    "    dt = str (date.today())\n",
    "    date_lst.insert(j,dt)\n",
    "    j = j+1\n",
    "\n",
    "#Data collection in one execution\n",
    "print (city_lst)\n",
    "print (population_lst)\n",
    "print (day_lst)\n",
    "print (time_lst)\n",
    "print (time_am_pm_lst)\n",
    "print (temp_lst)\n",
    "print (outlook_lst)\n",
    "print (date_lst)\n"
   ]
  },
  {
   "cell_type": "code",
   "execution_count": 5,
   "metadata": {},
   "outputs": [],
   "source": [
    "# Exporting & appending data to CSV file \n",
    "df_final = pd.DataFrame([list(city_lst), list(population_lst),list(date_lst),list(day_lst),list(time_lst),list(time_am_pm_lst),list(temp_lst),list(outlook_lst),],  columns =  [\"r1\", \"r2\",\"r3\", \"r4\",])\n",
    "df1= df_final.transpose()\n",
    "df1.to_csv('CSVFILE.csv', mode='a', encoding='utf-8',index=False,header=False)"
   ]
  },
  {
   "cell_type": "code",
   "execution_count": null,
   "metadata": {},
   "outputs": [],
   "source": []
  }
 ],
 "metadata": {
  "kernelspec": {
   "display_name": "Python 3",
   "language": "python",
   "name": "python3"
  },
  "language_info": {
   "codemirror_mode": {
    "name": "ipython",
    "version": 3
   },
   "file_extension": ".py",
   "mimetype": "text/x-python",
   "name": "python",
   "nbconvert_exporter": "python",
   "pygments_lexer": "ipython3",
   "version": "3.8.5"
  }
 },
 "nbformat": 4,
 "nbformat_minor": 4
}
